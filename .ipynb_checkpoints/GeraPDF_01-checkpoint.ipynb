{
 "cells": [
  {
   "cell_type": "markdown",
   "id": "02edbdc3",
   "metadata": {},
   "source": [
    "## Desenvolvendo as entradas de dados"
   ]
  },
  {
   "cell_type": "code",
   "execution_count": 10,
   "id": "2fbc56c6",
   "metadata": {},
   "outputs": [
    {
     "name": "stdout",
     "output_type": "stream",
     "text": [
      "Digite a descrição do projeto: Desenvolvimento Python\n",
      "Digite o total de horas estimadas: 60\n",
      "Digite o valor da hora trabalhada: 120\n",
      "Digite o prazo estimado: 2 meses\n"
     ]
    }
   ],
   "source": [
    "projeto = input(\"Digite a descrição do projeto: \")\n",
    "horas_estimadas = input(\"Digite o total de horas estimadas: \")\n",
    "valor_hora = input(\"Digite o valor da hora trabalhada: \")\n",
    "prazo_estimado = input(\"Digite o prazo estimado: \")"
   ]
  },
  {
   "cell_type": "markdown",
   "id": "fc46c223",
   "metadata": {},
   "source": [
    "## Criando o cálculo do valor total estimado"
   ]
  },
  {
   "cell_type": "code",
   "execution_count": 12,
   "id": "ff30cb3a",
   "metadata": {},
   "outputs": [
    {
     "name": "stdout",
     "output_type": "stream",
     "text": [
      "7200\n"
     ]
    }
   ],
   "source": [
    "valor_total_estimado = int(horas_estimadas) * int(valor_hora)\n",
    "print(valor_total_estimado)"
   ]
  },
  {
   "cell_type": "markdown",
   "id": "98ab27c7",
   "metadata": {},
   "source": [
    "## Gerando o PDF com o orçamento"
   ]
  },
  {
   "cell_type": "markdown",
   "id": "23584a38",
   "metadata": {},
   "source": [
    "### Instalando a biblioteca"
   ]
  },
  {
   "cell_type": "code",
   "execution_count": 2,
   "id": "d7b324d7",
   "metadata": {},
   "outputs": [
    {
     "name": "stdout",
     "output_type": "stream",
     "text": [
      "Defaulting to user installation because normal site-packages is not writeable\n",
      "Requirement already satisfied: fpdf in c:\\users\\jande\\appdata\\roaming\\python\\python311\\site-packages (1.7.2)\n"
     ]
    }
   ],
   "source": [
    "!pip install fpdf"
   ]
  },
  {
   "cell_type": "code",
   "execution_count": 4,
   "id": "ca1f1bc7",
   "metadata": {},
   "outputs": [],
   "source": [
    "# Importando a biblioteca\n",
    "from fpdf import FPDF"
   ]
  },
  {
   "cell_type": "markdown",
   "id": "516918be",
   "metadata": {},
   "source": [
    "## Criando um arquivo PDF"
   ]
  },
  {
   "cell_type": "code",
   "execution_count": 6,
   "id": "ffac919e",
   "metadata": {},
   "outputs": [],
   "source": [
    "pdf = FPDF()\n",
    "pdf.add_page()\n",
    "pdf.set_font(\"Arial\")"
   ]
  },
  {
   "cell_type": "markdown",
   "id": "c5efda63",
   "metadata": {},
   "source": [
    "## Inserindo os dados no PDF"
   ]
  },
  {
   "cell_type": "code",
   "execution_count": 13,
   "id": "47b3ce0c",
   "metadata": {},
   "outputs": [],
   "source": [
    "# Utilizando um template\n",
    "pdf.image(\"template.png\", x=0, y=0)\n",
    "\n",
    "# Inserindo os dados do projeto\n",
    "pdf.text(115, 145, projeto)\n",
    "pdf.text(115, 160, horas_estimadas)\n",
    "pdf.text(115, 175, valor_hora)\n",
    "pdf.text(115, 190, prazo_estimado)\n",
    "pdf.text(115, 205, str(valor_total_estimado))"
   ]
  },
  {
   "cell_type": "markdown",
   "id": "db22d1fb",
   "metadata": {},
   "source": [
    "## Salvando o arquivo"
   ]
  },
  {
   "cell_type": "code",
   "execution_count": 15,
   "id": "e4514a40",
   "metadata": {},
   "outputs": [
    {
     "name": "stdout",
     "output_type": "stream",
     "text": [
      "Orçamento gerado com sucesso!\n"
     ]
    }
   ],
   "source": [
    "pdf.output(\"orçamento.pdf\")\n",
    "print(\"Orçamento gerado com sucesso!\")"
   ]
  },
  {
   "cell_type": "code",
   "execution_count": null,
   "id": "be8580b3",
   "metadata": {},
   "outputs": [],
   "source": []
  },
  {
   "cell_type": "code",
   "execution_count": null,
   "id": "52c950d6",
   "metadata": {},
   "outputs": [],
   "source": []
  }
 ],
 "metadata": {
  "kernelspec": {
   "display_name": "Python 3 (ipykernel)",
   "language": "python",
   "name": "python3"
  },
  "language_info": {
   "codemirror_mode": {
    "name": "ipython",
    "version": 3
   },
   "file_extension": ".py",
   "mimetype": "text/x-python",
   "name": "python",
   "nbconvert_exporter": "python",
   "pygments_lexer": "ipython3",
   "version": "3.11.5"
  }
 },
 "nbformat": 4,
 "nbformat_minor": 5
}
